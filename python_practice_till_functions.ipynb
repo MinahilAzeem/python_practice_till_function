{
 "cells": [
  {
   "cell_type": "code",
   "execution_count": 2,
   "id": "8e676500",
   "metadata": {},
   "outputs": [
    {
     "name": "stdout",
     "output_type": "stream",
     "text": [
      "Minahil\n",
      "Azeem\n"
     ]
    }
   ],
   "source": [
    "print(\"Minahil\")\n",
    "print(\"Azeem\")"
   ]
  },
  {
   "cell_type": "code",
   "execution_count": 53,
   "id": "bafbbed5",
   "metadata": {},
   "outputs": [
    {
     "name": "stdout",
     "output_type": "stream",
     "text": [
      "     @    \n",
      "   *  * \n",
      "  *    * \n",
      " *      * \n",
      "*________*\n",
      "____[]____\n",
      "\n"
     ]
    }
   ],
   "source": [
    "print('     @    \\n   *  * \\n  *    * \\n *      * \\n*________*\\n____[]____\\n')"
   ]
  },
  {
   "cell_type": "code",
   "execution_count": 3,
   "id": "d5912033",
   "metadata": {},
   "outputs": [
    {
     "name": "stdout",
     "output_type": "stream",
     "text": [
      "Minahil Azeem\n"
     ]
    }
   ],
   "source": [
    "print(\"Minahil\", end=\" \")\n",
    "print(\"Azeem\")"
   ]
  },
  {
   "cell_type": "code",
   "execution_count": 5,
   "id": "e96efea3",
   "metadata": {},
   "outputs": [
    {
     "name": "stdout",
     "output_type": "stream",
     "text": [
      "Minahil *** Azeem\n"
     ]
    }
   ],
   "source": [
    "print(\"Minahil\",\"Azeem\", sep=\" *** \")"
   ]
  },
  {
   "cell_type": "markdown",
   "id": "48447d6e",
   "metadata": {},
   "source": [
    "## Variable"
   ]
  },
  {
   "cell_type": "code",
   "execution_count": 6,
   "id": "5e5b37e8",
   "metadata": {},
   "outputs": [
    {
     "name": "stdout",
     "output_type": "stream",
     "text": [
      "780\n"
     ]
    }
   ],
   "source": [
    "variable=780\n",
    "print(variable)"
   ]
  },
  {
   "cell_type": "code",
   "execution_count": 7,
   "id": "0d0fd8d9",
   "metadata": {},
   "outputs": [
    {
     "data": {
      "text/plain": [
       "int"
      ]
     },
     "execution_count": 7,
     "metadata": {},
     "output_type": "execute_result"
    }
   ],
   "source": [
    "type(variable)"
   ]
  },
  {
   "cell_type": "markdown",
   "id": "4a3890b3",
   "metadata": {},
   "source": [
    "## BMI Calculator"
   ]
  },
  {
   "cell_type": "code",
   "execution_count": 8,
   "id": "74b7ca3b",
   "metadata": {
    "scrolled": true
   },
   "outputs": [
    {
     "name": "stdout",
     "output_type": "stream",
     "text": [
      "1.735891932836763\n"
     ]
    }
   ],
   "source": [
    "weight= 22\n",
    "height= 3.56\n",
    "bmi= weight /(height*height)\n",
    "print(bmi)"
   ]
  },
  {
   "cell_type": "code",
   "execution_count": 9,
   "id": "0c335b3c",
   "metadata": {},
   "outputs": [
    {
     "name": "stdout",
     "output_type": "stream",
     "text": [
      "Enter your weight: 34\n",
      "Enter your height: 2.89\n",
      "4.0708324852432325\n"
     ]
    }
   ],
   "source": [
    "weight= float(input(\"Enter your weight: \"))\n",
    "height= float(input(\"Enter your height: \"))\n",
    "bmi= weight /(height*height)\n",
    "print(bmi)"
   ]
  },
  {
   "cell_type": "markdown",
   "id": "028d201c",
   "metadata": {},
   "source": [
    "## Slicing"
   ]
  },
  {
   "cell_type": "code",
   "execution_count": 10,
   "id": "62656ca7",
   "metadata": {
    "scrolled": false
   },
   "outputs": [
    {
     "name": "stdout",
     "output_type": "stream",
     "text": [
      "il A\n"
     ]
    }
   ],
   "source": [
    "name=\"Minahil Azeem\"\n",
    "print(name[5:9])"
   ]
  },
  {
   "cell_type": "code",
   "execution_count": 39,
   "id": "a8df1078",
   "metadata": {},
   "outputs": [
    {
     "name": "stdout",
     "output_type": "stream",
     "text": [
      "['amina', 'fiza', 'aira', 78, 67]\n"
     ]
    }
   ],
   "source": [
    "lst=['amina','fiza','aira',78]\n",
    "lst.append(67)\n",
    "print(lst)"
   ]
  },
  {
   "cell_type": "code",
   "execution_count": 40,
   "id": "2369ebf9",
   "metadata": {},
   "outputs": [
    {
     "data": {
      "text/plain": [
       "1"
      ]
     },
     "execution_count": 40,
     "metadata": {},
     "output_type": "execute_result"
    }
   ],
   "source": [
    "lst.count('aira')"
   ]
  },
  {
   "cell_type": "code",
   "execution_count": 41,
   "id": "60d85a0e",
   "metadata": {},
   "outputs": [],
   "source": [
    "lst.extend([[\"new\",\"list\"]])"
   ]
  },
  {
   "cell_type": "code",
   "execution_count": 42,
   "id": "9f565834",
   "metadata": {},
   "outputs": [
    {
     "name": "stdout",
     "output_type": "stream",
     "text": [
      "['amina', 'fiza', 'aira', 78, 67, ['new', 'list']]\n"
     ]
    }
   ],
   "source": [
    "print(lst)"
   ]
  },
  {
   "cell_type": "code",
   "execution_count": 43,
   "id": "90a1c978",
   "metadata": {},
   "outputs": [
    {
     "data": {
      "text/plain": [
       "2"
      ]
     },
     "execution_count": 43,
     "metadata": {},
     "output_type": "execute_result"
    }
   ],
   "source": [
    "lst.index('aira')"
   ]
  },
  {
   "cell_type": "code",
   "execution_count": 44,
   "id": "39f19e85",
   "metadata": {},
   "outputs": [],
   "source": [
    "lst.insert(1,'Minahil')"
   ]
  },
  {
   "cell_type": "code",
   "execution_count": 45,
   "id": "a1e08b0a",
   "metadata": {},
   "outputs": [
    {
     "name": "stdout",
     "output_type": "stream",
     "text": [
      "['amina', 'Minahil', 'fiza', 'aira', 78, 67, ['new', 'list']]\n"
     ]
    }
   ],
   "source": [
    "print(lst)"
   ]
  },
  {
   "cell_type": "code",
   "execution_count": 46,
   "id": "f643a655",
   "metadata": {},
   "outputs": [],
   "source": [
    "lst.remove(67)"
   ]
  },
  {
   "cell_type": "code",
   "execution_count": 47,
   "id": "8d44d4aa",
   "metadata": {},
   "outputs": [
    {
     "name": "stdout",
     "output_type": "stream",
     "text": [
      "['amina', 'Minahil', 'fiza', 'aira', 78, ['new', 'list']]\n"
     ]
    }
   ],
   "source": [
    "print(lst)"
   ]
  },
  {
   "cell_type": "code",
   "execution_count": 48,
   "id": "fc66a12c",
   "metadata": {},
   "outputs": [
    {
     "data": {
      "text/plain": [
       "78"
      ]
     },
     "execution_count": 48,
     "metadata": {},
     "output_type": "execute_result"
    }
   ],
   "source": [
    "lst.pop(4)"
   ]
  },
  {
   "cell_type": "code",
   "execution_count": 49,
   "id": "584f3bf9",
   "metadata": {},
   "outputs": [
    {
     "data": {
      "text/plain": [
       "['new', 'list']"
      ]
     },
     "execution_count": 49,
     "metadata": {},
     "output_type": "execute_result"
    }
   ],
   "source": [
    "lst.pop()"
   ]
  },
  {
   "cell_type": "markdown",
   "id": "f9a5df34",
   "metadata": {},
   "source": [
    "## TYPE CONVERSION"
   ]
  },
  {
   "cell_type": "code",
   "execution_count": 55,
   "id": "bdff3a8c",
   "metadata": {},
   "outputs": [
    {
     "data": {
      "text/plain": [
       "int"
      ]
     },
     "execution_count": 55,
     "metadata": {},
     "output_type": "execute_result"
    }
   ],
   "source": [
    "age=19\n",
    "type(age)"
   ]
  },
  {
   "cell_type": "code",
   "execution_count": 56,
   "id": "ce9e018f",
   "metadata": {},
   "outputs": [
    {
     "data": {
      "text/plain": [
       "float"
      ]
     },
     "execution_count": 56,
     "metadata": {},
     "output_type": "execute_result"
    }
   ],
   "source": [
    "float_val=float(age)\n",
    "type(float_val)"
   ]
  },
  {
   "cell_type": "markdown",
   "id": "da14491e",
   "metadata": {},
   "source": [
    "## Loops"
   ]
  },
  {
   "cell_type": "code",
   "execution_count": 1,
   "id": "c1e43a67",
   "metadata": {},
   "outputs": [
    {
     "name": "stdout",
     "output_type": "stream",
     "text": [
      "Enter your marks: 83\n",
      "A grade\n"
     ]
    }
   ],
   "source": [
    "marks=int(input(\"Enter your marks: \"))\n",
    "if marks>80:\n",
    "    print('A grade')"
   ]
  },
  {
   "cell_type": "code",
   "execution_count": 2,
   "id": "0c0ab7ca",
   "metadata": {},
   "outputs": [
    {
     "name": "stdout",
     "output_type": "stream",
     "text": [
      "Enter your marks: 45\n",
      "Pass\n"
     ]
    }
   ],
   "source": [
    "marks=int(input(\"Enter your marks: \"))\n",
    "if marks>80:\n",
    "    print('A grade')\n",
    "else:\n",
    "    print('Pass')"
   ]
  },
  {
   "cell_type": "code",
   "execution_count": 3,
   "id": "294fb419",
   "metadata": {},
   "outputs": [
    {
     "name": "stdout",
     "output_type": "stream",
     "text": [
      "Enter your marks: 45\n",
      "Fail\n"
     ]
    }
   ],
   "source": [
    "marks=int(input(\"Enter your marks: \"))\n",
    "if marks>=90:\n",
    "    print('A grade')\n",
    "elif marks>=70:\n",
    "    print('B grade')\n",
    "elif marks>=50:\n",
    "    print('C grade')\n",
    "else:\n",
    "    print('Fail')"
   ]
  },
  {
   "cell_type": "code",
   "execution_count": 4,
   "id": "33931e77",
   "metadata": {
    "scrolled": true
   },
   "outputs": [
    {
     "name": "stdout",
     "output_type": "stream",
     "text": [
      "Enter any number to check: 4\n",
      "4  is positive\n"
     ]
    }
   ],
   "source": [
    "num=int(input('Enter any number to check: '))\n",
    "if num > 0:\n",
    "    print(num, ' is positive')\n",
    "elif num < 0:\n",
    "    print(num, ' is negative')\n",
    "else:\n",
    "    print(num, ' is invalid')"
   ]
  },
  {
   "cell_type": "code",
   "execution_count": 1,
   "id": "ffda0fb8",
   "metadata": {},
   "outputs": [
    {
     "name": "stdout",
     "output_type": "stream",
     "text": [
      "Enter any number to check: 0\n",
      "0  is invalid\n"
     ]
    }
   ],
   "source": [
    "num=int(input('Enter any number to check: '))\n",
    "if num > 0:\n",
    "    print(num, ' is positive')\n",
    "elif num < 0:\n",
    "    print(num, ' is negative')\n",
    "else:\n",
    "    print(num, ' is invalid')"
   ]
  },
  {
   "cell_type": "code",
   "execution_count": 2,
   "id": "16df8a7a",
   "metadata": {},
   "outputs": [
    {
     "name": "stdout",
     "output_type": "stream",
     "text": [
      "Enter any number to check: -3\n",
      "-3  is negative\n"
     ]
    }
   ],
   "source": [
    "num=int(input('Enter any number to check: '))\n",
    "if num > 0:\n",
    "    print(num, ' is positive')\n",
    "elif num < 0:\n",
    "    print(num, ' is negative')\n",
    "else:\n",
    "    print(num, ' is invalid')"
   ]
  },
  {
   "cell_type": "code",
   "execution_count": 5,
   "id": "69d4ebca",
   "metadata": {},
   "outputs": [
    {
     "name": "stdout",
     "output_type": "stream",
     "text": [
      "Enter number: 12\n",
      "Square of  12 is:  144\n"
     ]
    }
   ],
   "source": [
    "given_num=int(input('Enter number: '))   #get number from user\n",
    "if given_num > 5:\n",
    "    square= (given_num * given_num)\n",
    "    print(\"Square of \", given_num, \"is: \",square)\n",
    "else:\n",
    "    print('The given number is less than 6')"
   ]
  },
  {
   "cell_type": "markdown",
   "id": "b1486911",
   "metadata": {},
   "source": [
    "## Shorthand if"
   ]
  },
  {
   "cell_type": "code",
   "execution_count": 7,
   "id": "f1f8f83a",
   "metadata": {},
   "outputs": [
    {
     "name": "stdout",
     "output_type": "stream",
     "text": [
      "9  is greater than 7\n"
     ]
    }
   ],
   "source": [
    "num1,num2= 9,7\n",
    "if (num1>num2): print(num1,' is greater than', num2)"
   ]
  },
  {
   "cell_type": "code",
   "execution_count": 11,
   "id": "ca370a0c",
   "metadata": {},
   "outputs": [],
   "source": [
    "\n",
    "def password_check(password):\n",
    "    if password == 'Amina45':\n",
    "        print('Access accepted')\n",
    "    else:\n",
    "        print('Access Denied')\n",
    "        "
   ]
  },
  {
   "cell_type": "code",
   "execution_count": 13,
   "id": "e50588bb",
   "metadata": {},
   "outputs": [
    {
     "name": "stdout",
     "output_type": "stream",
     "text": [
      "Access accepted\n"
     ]
    }
   ],
   "source": [
    "password_check('Amina45')"
   ]
  },
  {
   "cell_type": "code",
   "execution_count": 14,
   "id": "5d9bb32a",
   "metadata": {},
   "outputs": [
    {
     "name": "stdout",
     "output_type": "stream",
     "text": [
      "Access Denied\n"
     ]
    }
   ],
   "source": [
    "password_check('Amina5')"
   ]
  },
  {
   "cell_type": "code",
   "execution_count": 16,
   "id": "b6e2c59a",
   "metadata": {
    "scrolled": true
   },
   "outputs": [
    {
     "name": "stdout",
     "output_type": "stream",
     "text": [
      "Minahil\n",
      "Minahil\n",
      "Minahil\n",
      "Minahil\n",
      "Minahil\n",
      "Minahil\n",
      "Minahil\n",
      "Minahil\n",
      "Minahil\n",
      "Minahil\n",
      "Minahil\n",
      "Minahil\n",
      "Minahil\n",
      "Minahil\n",
      "Minahil\n",
      "Minahil\n",
      "Minahil\n",
      "Minahil\n",
      "Minahil\n",
      "Minahil\n",
      "Minahil\n",
      "Minahil\n",
      "Minahil\n",
      "Minahil\n",
      "Minahil\n",
      "Minahil\n",
      "Minahil\n",
      "Minahil\n",
      "Minahil\n",
      "Minahil\n"
     ]
    }
   ],
   "source": [
    "for i in range(30):         #'in' is membership operator\n",
    "    print('Minahil')"
   ]
  },
  {
   "cell_type": "code",
   "execution_count": 17,
   "id": "3e484cd7",
   "metadata": {},
   "outputs": [
    {
     "name": "stdout",
     "output_type": "stream",
     "text": [
      "Minahil  is in list1\n",
      "Musfira  is in list1\n",
      "Amina  is in list1\n",
      "Abdullah  is in list1\n",
      "Azeem  is in list1\n",
      "Rubina  is in list1\n"
     ]
    }
   ],
   "source": [
    "lst1=['Minahil','Musfira','Amina','Abdullah','Azeem','Rubina']     #list of strings\n",
    "for i in lst1:\n",
    "    print(i,' is in list1')"
   ]
  },
  {
   "cell_type": "code",
   "execution_count": 18,
   "id": "25d3e21b",
   "metadata": {},
   "outputs": [
    {
     "name": "stdout",
     "output_type": "stream",
     "text": [
      "Average for list of numbers is  36.5\n"
     ]
    }
   ],
   "source": [
    "lst_of_num=[10,20,45,50,60,34]\n",
    "length_of_lst=len(lst_of_num)\n",
    "sum=0\n",
    "for i in lst_of_num:\n",
    "    sum= sum+ i\n",
    "average=sum/length_of_lst\n",
    "print('Average for list of numbers is ',average)"
   ]
  },
  {
   "cell_type": "code",
   "execution_count": 19,
   "id": "afde82f2",
   "metadata": {},
   "outputs": [
    {
     "name": "stdout",
     "output_type": "stream",
     "text": [
      "M\n",
      "i\n",
      "n\n",
      "a\n",
      "h\n",
      "i\n",
      "l\n",
      " \n",
      "A\n",
      "z\n",
      "e\n",
      "e\n",
      "m\n"
     ]
    }
   ],
   "source": [
    "word='Minahil Azeem'\n",
    "for i in word:\n",
    "    print(i)"
   ]
  },
  {
   "cell_type": "code",
   "execution_count": 21,
   "id": "c960d0cf",
   "metadata": {},
   "outputs": [
    {
     "name": "stdout",
     "output_type": "stream",
     "text": [
      "2\n",
      "3\n",
      "4\n",
      "5\n",
      "6\n"
     ]
    }
   ],
   "source": [
    "for k in range(2,7):\n",
    "    print(k)"
   ]
  },
  {
   "cell_type": "code",
   "execution_count": 28,
   "id": "74a202da",
   "metadata": {
    "scrolled": true
   },
   "outputs": [
    {
     "name": "stdout",
     "output_type": "stream",
     "text": [
      "0 apple\n",
      "1 banana\n",
      "2 Date\n",
      "3 Grapes\n",
      "4 Melon\n",
      "5 Orange\n"
     ]
    }
   ],
   "source": [
    "list2=['apple','banana','Date','Grapes','Melon','Orange']\n",
    "for i in range(len(list2)):\n",
    "    print(i,list2[i])"
   ]
  },
  {
   "cell_type": "code",
   "execution_count": 30,
   "id": "e8b691c6",
   "metadata": {
    "scrolled": true
   },
   "outputs": [
    {
     "name": "stdout",
     "output_type": "stream",
     "text": [
      "Maniha\n",
      "Minahil\n",
      "Musfira\n",
      "Amina\n",
      "Abdullah\n"
     ]
    }
   ],
   "source": [
    "my_dic={1:'Maniha', 2:'Minahil', 3:'Musfira', 4:'Amina', 5:'Abdullah'}\n",
    "for value in my_dic.values():\n",
    "    print(value)"
   ]
  },
  {
   "cell_type": "code",
   "execution_count": 31,
   "id": "66bc878d",
   "metadata": {},
   "outputs": [
    {
     "name": "stdout",
     "output_type": "stream",
     "text": [
      "1\n",
      "2\n",
      "3\n",
      "4\n",
      "5\n"
     ]
    }
   ],
   "source": [
    "my_dic={1:'Maniha', 2:'Minahil', 3:'Musfira', 4:'Amina', 5:'Abdullah'}\n",
    "for key in my_dic.keys():\n",
    "    print(key)"
   ]
  },
  {
   "cell_type": "code",
   "execution_count": 32,
   "id": "513d1c8c",
   "metadata": {},
   "outputs": [
    {
     "name": "stdout",
     "output_type": "stream",
     "text": [
      "2 is even\n",
      "5 is odd\n",
      "6 is even\n",
      "3 is odd\n",
      "9 is odd\n",
      "10 is even\n",
      "18 is even\n",
      "7 is odd\n",
      "13 is odd\n"
     ]
    }
   ],
   "source": [
    "lst3=[2,5,6,3,9,10,18,7,13]\n",
    "for num in lst3:\n",
    "    if num % 2 ==0:\n",
    "        print(num, 'is even')\n",
    "    else:\n",
    "        print(num, 'is odd')\n",
    "    "
   ]
  },
  {
   "cell_type": "code",
   "execution_count": 2,
   "id": "9b855938",
   "metadata": {},
   "outputs": [
    {
     "name": "stdout",
     "output_type": "stream",
     "text": [
      "-5\n",
      "-4\n",
      "-3\n",
      "-2\n",
      "-1\n",
      "0\n",
      "1\n",
      "2\n",
      "3\n",
      "4\n"
     ]
    }
   ],
   "source": [
    "current_num=-5\n",
    "while current_num < 5:\n",
    "    print(current_num)\n",
    "    current_num += 1"
   ]
  },
  {
   "cell_type": "code",
   "execution_count": 5,
   "id": "e26548f7",
   "metadata": {},
   "outputs": [
    {
     "name": "stdout",
     "output_type": "stream",
     "text": [
      "Sum of first ten number is : 55\n"
     ]
    }
   ],
   "source": [
    "numb=1\n",
    "total=0\n",
    "while numb <= 10:\n",
    "    total +=numb\n",
    "    numb += 1\n",
    "print(\"Sum of first ten number is :\",total)"
   ]
  },
  {
   "cell_type": "code",
   "execution_count": 1,
   "id": "dc6d8d66",
   "metadata": {
    "scrolled": true
   },
   "outputs": [
    {
     "name": "stdout",
     "output_type": "stream",
     "text": [
      "12\n",
      "10\n",
      "8\n",
      "6\n",
      "4\n",
      "2\n",
      "Loop is completed\n"
     ]
    }
   ],
   "source": [
    "value=12\n",
    "while value > 0:\n",
    "    print(value)\n",
    "    value -= 2\n",
    "    \n",
    "print(\"Loop is completed\")     "
   ]
  },
  {
   "cell_type": "code",
   "execution_count": 4,
   "id": "59a72a94",
   "metadata": {},
   "outputs": [
    {
     "name": "stdout",
     "output_type": "stream",
     "text": [
      "180 is divided by 3  number of time\n"
     ]
    }
   ],
   "source": [
    "count=0\n",
    "n=180\n",
    "while n > 10:\n",
    "    n= n/3\n",
    "    count= count+1\n",
    "print('180 is divided by',count,' number of time')\n",
    "        "
   ]
  },
  {
   "cell_type": "markdown",
   "id": "01fb7e52",
   "metadata": {},
   "source": [
    "# Print even and odd numbers between 1 & given number"
   ]
  },
  {
   "cell_type": "code",
   "execution_count": 2,
   "id": "5488e29c",
   "metadata": {},
   "outputs": [
    {
     "name": "stdout",
     "output_type": "stream",
     "text": [
      "Énter number: 15\n",
      "1  is odd\n",
      "2  is even\n",
      "3  is odd\n",
      "4  is even\n",
      "5  is odd\n",
      "6  is even\n",
      "7  is odd\n",
      "8  is even\n",
      "9  is odd\n",
      "10  is even\n",
      "11  is odd\n",
      "12  is even\n",
      "13  is odd\n",
      "14  is even\n",
      "15  is odd\n"
     ]
    }
   ],
   "source": [
    "given_num=int(input('Énter number: '))\n",
    "num=1\n",
    "while (1<=num<=given_num):\n",
    "    if num%2==0:\n",
    "        print(num,' is even')\n",
    "        #num=num+1\n",
    "    else:\n",
    "        print(num,' is odd')\n",
    "        #num=num+1\n",
    "    num=num+1\n"
   ]
  },
  {
   "cell_type": "markdown",
   "id": "d4bf1752",
   "metadata": {},
   "source": [
    "## Function"
   ]
  },
  {
   "cell_type": "code",
   "execution_count": 1,
   "id": "903ad714",
   "metadata": {},
   "outputs": [],
   "source": [
    "def greet():\n",
    "    print(\"Hello everybody!\")"
   ]
  },
  {
   "cell_type": "code",
   "execution_count": 2,
   "id": "04ed4973",
   "metadata": {},
   "outputs": [
    {
     "name": "stdout",
     "output_type": "stream",
     "text": [
      "Hello everybody!\n"
     ]
    }
   ],
   "source": [
    "greet()"
   ]
  },
  {
   "cell_type": "code",
   "execution_count": 3,
   "id": "95c89fba",
   "metadata": {},
   "outputs": [],
   "source": [
    "def greeting(msg):\n",
    "    print(\"hello!\",msg)"
   ]
  },
  {
   "cell_type": "code",
   "execution_count": 8,
   "id": "5dfb0eb7",
   "metadata": {},
   "outputs": [
    {
     "name": "stdout",
     "output_type": "stream",
     "text": [
      "hello! Minahil, How are you\n"
     ]
    }
   ],
   "source": [
    "greeting(\"Minahil, How are you\")"
   ]
  },
  {
   "cell_type": "code",
   "execution_count": 9,
   "id": "2e7ff3e0",
   "metadata": {},
   "outputs": [],
   "source": [
    "#Function to add two numbers\n",
    "def add_two_numbers():\n",
    "    num1=12\n",
    "    num2=5\n",
    "    sum=num1+num2\n",
    "    print(\"The sum of two numbers is:  \", sum)"
   ]
  },
  {
   "cell_type": "code",
   "execution_count": 10,
   "id": "04a19a1f",
   "metadata": {},
   "outputs": [
    {
     "name": "stdout",
     "output_type": "stream",
     "text": [
      "The sum of two numbers is:   17\n"
     ]
    }
   ],
   "source": [
    "add_two_numbers()"
   ]
  },
  {
   "cell_type": "raw",
   "id": "83f54e63",
   "metadata": {},
   "source": [
    "#Generate full name\n",
    "def full_name():\n",
    "    first_name=\"Minahil\"\n",
    "    second_name=\"Azeem\"\n",
    "    space=\" \"\n",
    "    full_name=first_name+space+second_name\n",
    "    return full_name\n",
    "    "
   ]
  },
  {
   "cell_type": "code",
   "execution_count": 2,
   "id": "e5aa7659",
   "metadata": {},
   "outputs": [],
   "source": [
    "#Generate full name\n",
    "def generate_full_name():\n",
    "    first_name=\"Minahil\"\n",
    "    second_name=\"Azeem\"\n",
    "    space=\" \"\n",
    "    full_name=first_name+space+second_name\n",
    "    return full_name"
   ]
  },
  {
   "cell_type": "code",
   "execution_count": 3,
   "id": "bb4fba22",
   "metadata": {},
   "outputs": [
    {
     "data": {
      "text/plain": [
       "'Minahil Azeem'"
      ]
     },
     "execution_count": 3,
     "metadata": {},
     "output_type": "execute_result"
    }
   ],
   "source": [
    "generate_full_name()"
   ]
  },
  {
   "cell_type": "markdown",
   "id": "e2b727b0",
   "metadata": {},
   "source": [
    "## function to display sum by getting input from user"
   ]
  },
  {
   "cell_type": "code",
   "execution_count": 4,
   "id": "70a214c7",
   "metadata": {},
   "outputs": [],
   "source": [
    "def user_input():\n",
    "    num1=int(input('Enter first number: '))\n",
    "    num2=int(input('Enter Second number: '))\n",
    "    sum=num1+num2\n",
    "    return sum\n"
   ]
  },
  {
   "cell_type": "code",
   "execution_count": 5,
   "id": "269dc216",
   "metadata": {},
   "outputs": [
    {
     "name": "stdout",
     "output_type": "stream",
     "text": [
      "Enter first number: 3\n",
      "Enter Second number: 4\n"
     ]
    },
    {
     "data": {
      "text/plain": [
       "7"
      ]
     },
     "execution_count": 5,
     "metadata": {},
     "output_type": "execute_result"
    }
   ],
   "source": [
    "user_input()"
   ]
  },
  {
   "cell_type": "markdown",
   "id": "4d2abc59",
   "metadata": {},
   "source": [
    "## Write a function to add two numbers using parameters"
   ]
  },
  {
   "cell_type": "code",
   "execution_count": 3,
   "id": "dcbed845",
   "metadata": {},
   "outputs": [],
   "source": [
    "def sum(a,b):\n",
    "    return a+b"
   ]
  },
  {
   "cell_type": "code",
   "execution_count": 4,
   "id": "07c649e2",
   "metadata": {
    "scrolled": true
   },
   "outputs": [
    {
     "data": {
      "text/plain": [
       "8"
      ]
     },
     "execution_count": 4,
     "metadata": {},
     "output_type": "execute_result"
    }
   ],
   "source": [
    "sum(3,5)"
   ]
  },
  {
   "cell_type": "markdown",
   "id": "d00842c7",
   "metadata": {},
   "source": [
    "## Write a function to tell that this specific number is even or odd"
   ]
  },
  {
   "cell_type": "code",
   "execution_count": 5,
   "id": "a8e3164b",
   "metadata": {},
   "outputs": [],
   "source": [
    "def even_odd(num):\n",
    "    if num%2==0:\n",
    "        print(num, \" is even \")\n",
    "    else:\n",
    "        print(num, \" is odd\")"
   ]
  },
  {
   "cell_type": "code",
   "execution_count": 6,
   "id": "765a97d5",
   "metadata": {},
   "outputs": [
    {
     "name": "stdout",
     "output_type": "stream",
     "text": [
      "6  is even \n"
     ]
    }
   ],
   "source": [
    "even_odd(6)"
   ]
  },
  {
   "cell_type": "code",
   "execution_count": 8,
   "id": "ebc96311",
   "metadata": {},
   "outputs": [
    {
     "name": "stdout",
     "output_type": "stream",
     "text": [
      "3  is odd\n"
     ]
    }
   ],
   "source": [
    "even_odd(3)"
   ]
  },
  {
   "cell_type": "markdown",
   "id": "04df063a",
   "metadata": {},
   "source": [
    "## Getting input from user on runtime"
   ]
  },
  {
   "cell_type": "code",
   "execution_count": 9,
   "id": "06bc4a0f",
   "metadata": {},
   "outputs": [],
   "source": [
    "def even_odd():\n",
    "    num=int(input('Enter num'))\n",
    "    if num%2==0:\n",
    "        print(num, \" is even \")\n",
    "    else:\n",
    "        print(num, \" is odd\")"
   ]
  },
  {
   "cell_type": "code",
   "execution_count": 10,
   "id": "f5f1ccf6",
   "metadata": {
    "scrolled": true
   },
   "outputs": [
    {
     "name": "stdout",
     "output_type": "stream",
     "text": [
      "Enter num4\n",
      "4  is even \n"
     ]
    }
   ],
   "source": [
    "even_odd()"
   ]
  },
  {
   "cell_type": "markdown",
   "id": "71550d45",
   "metadata": {},
   "source": []
  },
  {
   "cell_type": "markdown",
   "id": "d4c9636a",
   "metadata": {},
   "source": [
    "\n"
   ]
  },
  {
   "cell_type": "markdown",
   "id": "d116dfb9",
   "metadata": {},
   "source": [
    "## Write a program to check whether num is positive, negative or zero"
   ]
  },
  {
   "cell_type": "code",
   "execution_count": 21,
   "id": "fc184421",
   "metadata": {},
   "outputs": [],
   "source": [
    "def pos_neg(num3):\n",
    "    if num3>0:\n",
    "        print(num3,\" is positive\")\n",
    "    elif num3==0:\n",
    "        print(num3,\" is zero\")\n",
    "    else:\n",
    "        print(num3, \" is negative\")\n",
    "    return"
   ]
  },
  {
   "cell_type": "code",
   "execution_count": 18,
   "id": "f3ba0576",
   "metadata": {},
   "outputs": [
    {
     "name": "stdout",
     "output_type": "stream",
     "text": [
      "7  is positive\n"
     ]
    }
   ],
   "source": [
    "pos_neg(7)"
   ]
  },
  {
   "cell_type": "code",
   "execution_count": 22,
   "id": "3c1c664b",
   "metadata": {},
   "outputs": [
    {
     "name": "stdout",
     "output_type": "stream",
     "text": [
      "-2  is negative\n"
     ]
    }
   ],
   "source": [
    "pos_neg(-2)"
   ]
  },
  {
   "cell_type": "code",
   "execution_count": 23,
   "id": "04998751",
   "metadata": {},
   "outputs": [
    {
     "name": "stdout",
     "output_type": "stream",
     "text": [
      "0  is zero\n"
     ]
    }
   ],
   "source": [
    "pos_neg(0)"
   ]
  },
  {
   "cell_type": "markdown",
   "id": "d4b29675",
   "metadata": {},
   "source": [
    "## Calculate sum of numbers to the specified limit"
   ]
  },
  {
   "cell_type": "code",
   "execution_count": 24,
   "id": "776df8a4",
   "metadata": {},
   "outputs": [],
   "source": [
    "def sum_to_limit(limit):\n",
    "    total_sum=0\n",
    "    for i in range(limit+1):\n",
    "        total_sum+=i\n",
    "        \n",
    "    return total_sum"
   ]
  },
  {
   "cell_type": "code",
   "execution_count": 25,
   "id": "63348181",
   "metadata": {},
   "outputs": [
    {
     "data": {
      "text/plain": [
       "55"
      ]
     },
     "execution_count": 25,
     "metadata": {},
     "output_type": "execute_result"
    }
   ],
   "source": [
    "sum_to_limit(10)"
   ]
  },
  {
   "cell_type": "markdown",
   "id": "10113b3c",
   "metadata": {},
   "source": [
    "## Calculate age"
   ]
  },
  {
   "cell_type": "code",
   "execution_count": 26,
   "id": "98c7fc08",
   "metadata": {},
   "outputs": [],
   "source": [
    "def check_age(birth_date,current_year):\n",
    "    age=current_year-birth_date\n",
    "    return age"
   ]
  },
  {
   "cell_type": "code",
   "execution_count": 29,
   "id": "436463d4",
   "metadata": {},
   "outputs": [
    {
     "data": {
      "text/plain": [
       "19"
      ]
     },
     "execution_count": 29,
     "metadata": {},
     "output_type": "execute_result"
    }
   ],
   "source": [
    "check_age(2005,2024)"
   ]
  }
 ],
 "metadata": {
  "kernelspec": {
   "display_name": "Python 3 (ipykernel)",
   "language": "python",
   "name": "python3"
  },
  "language_info": {
   "codemirror_mode": {
    "name": "ipython",
    "version": 3
   },
   "file_extension": ".py",
   "mimetype": "text/x-python",
   "name": "python",
   "nbconvert_exporter": "python",
   "pygments_lexer": "ipython3",
   "version": "3.10.9"
  }
 },
 "nbformat": 4,
 "nbformat_minor": 5
}
